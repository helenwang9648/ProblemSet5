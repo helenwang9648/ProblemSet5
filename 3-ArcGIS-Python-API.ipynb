{
 "cells": [
  {
   "cell_type": "markdown",
   "metadata": {},
   "source": [
    "# Section 3 - The ArcGIS Python API\n",
    "_Complete the following Python tasks. Comments aren't required but they can be helpful in awarding partial credit if you fail to get the correct answer._"
   ]
  },
  {
   "cell_type": "markdown",
   "metadata": {},
   "source": [
    "## Task 1: Create the GIS object and explore the user object"
   ]
  },
  {
   "cell_type": "markdown",
   "metadata": {},
   "source": [
    "*  Create a GIS object, authenticated using your ArcGIS Pro application\n",
    " * Resource: https://developers.arcgis.com/python/guide/working-with-different-authentication-schemes/"
   ]
  },
  {
   "cell_type": "code",
   "execution_count": null,
   "metadata": {},
   "outputs": [],
   "source": [
    "#Import the GIS object and authenticate using your ArcGIS Pro application\n",
    "from arcgis import GIS\n"
   ]
  },
  {
   "cell_type": "markdown",
   "metadata": {},
   "source": [
    "## Task 2: Search for datasets and extract a specific item \n",
    "* Using the \"gis\" object created above search for **feature layer items** that are **owned** by \"MPA_noaa\" using the keyword \"Marine Protected Areas\". \n",
    " * Be sure to enable the search to go [outside the organization](https://developers.arcgis.com/python/guide/accessing-and-creating-content/#Searching-for-content-outside-your-portal). \n",
    " * Ensure that up to 100 records might be located. \n",
    "* Display the list of items returned"
   ]
  },
  {
   "cell_type": "code",
   "execution_count": 1,
   "metadata": {},
   "outputs": [],
   "source": [
    "#Search for feature layer items owned by \"MPA_noaa\" using the keyword \"Marine Protected Areas\"\n",
    "items = "
   ]
  },
  {
   "cell_type": "code",
   "execution_count": null,
   "metadata": {},
   "outputs": [],
   "source": [
    "#Display the list of items found"
   ]
  },
  {
   "cell_type": "markdown",
   "metadata": {},
   "source": [
    "## Task 3: Extract a layer from the item and map it\n",
    "* From the list of items returned, extract the one titled `National Marine Sancutaries` to a variable named `item`. \n",
    "* Print this item's ID number.\n",
    "* Print the list of layers associated with this item\n",
    "* Extract the first layer in this feature layer service to a feature layer variable named `theLayer`\n",
    "* Create a map widget centered on California. \n",
    " * Try to alter the map's basemap to the \"Oceans\" basemap. ([Clue](https://developers.arcgis.com/python/guide/using-the-map-widget/#Basemaps))"
   ]
  },
  {
   "cell_type": "code",
   "execution_count": null,
   "metadata": {},
   "outputs": [],
   "source": [
    "#Extract the identified feature layer item to a variable named \"item\"\n",
    "item = "
   ]
  },
  {
   "cell_type": "code",
   "execution_count": null,
   "metadata": {},
   "outputs": [],
   "source": [
    "#Show the item's id\n"
   ]
  },
  {
   "cell_type": "code",
   "execution_count": null,
   "metadata": {},
   "outputs": [],
   "source": [
    "#Show the list of layers associated with this item\n"
   ]
  },
  {
   "cell_type": "code",
   "execution_count": null,
   "metadata": {},
   "outputs": [],
   "source": [
    "#Extract the first layer to a variable named \"theLayer\"\n",
    "theLayer = "
   ]
  },
  {
   "cell_type": "code",
   "execution_count": null,
   "metadata": {},
   "outputs": [],
   "source": [
    "#Map the feature layer on a map centered on California\n"
   ]
  },
  {
   "cell_type": "markdown",
   "metadata": {},
   "source": [
    "---\n",
    "## Task 4: Query specific features from a feature layer and download them \n",
    "Here we want to query a feature layer of Durham County parcels - for which we are provided a URL - and download the a subset of parcels that meet a certain criteria, in our case *vacant* parcels. \n",
    "\n",
    "To do this, we need to:\n",
    "* access the appropriate feature service - for which we are provided a specific URL\n",
    "* extract the appropriate feature layer from that feature service\n",
    "* examine the fields on which we can query the features and the values of those fields\n",
    "* construct and execute a query\n",
    "* examine the results\n",
    "* save the results"
   ]
  },
  {
   "cell_type": "markdown",
   "metadata": {},
   "source": [
    "### Task 4a: Create the GIS feature service item\n",
    "The ArcGIS REST endpoint for theDurham Parcel Feature Server hosting the data we want is here:<br>\n",
    "https://services2.arcgis.com/G5vR3cOjh6g2Ed8E/arcgis/rest/services/Parcels/FeatureServer. We can use that page to located the feature server's unique Service Item ID, and then use that ID to pull that feature server into our coding environment:\n",
    "* Navigate to the URL listed above\n",
    "* Find the feature server's \"Service Item ID\" listed on that page\n",
    "* Access that item via this ID# ([HINT](https://developers.arcgis.com/python/guide/managing-your-content/))"
   ]
  },
  {
   "cell_type": "code",
   "execution_count": null,
   "metadata": {},
   "outputs": [],
   "source": [
    "#Retrieve the item associated with the Service Item ID found in the URL\n"
   ]
  },
  {
   "cell_type": "markdown",
   "metadata": {},
   "source": [
    "### Task 4b. Extract the appropriate feature layer from the feature service and explore"
   ]
  },
  {
   "cell_type": "markdown",
   "metadata": {},
   "source": [
    "* List the layer(s) associated with the feature service item created above. Then extract the first layer as a new variable named `theLayer`"
   ]
  },
  {
   "cell_type": "code",
   "execution_count": null,
   "metadata": {},
   "outputs": [],
   "source": [
    "#List the layers associated with the item\n"
   ]
  },
  {
   "cell_type": "code",
   "execution_count": null,
   "metadata": {},
   "outputs": [],
   "source": [
    "#Extract the first feature layer in the item to a new variable\n"
   ]
  },
  {
   "cell_type": "markdown",
   "metadata": {},
   "source": [
    "* List the fields associated with this layer. ([Clue](https://render.githubusercontent.com/view/ipynb?commit=a3fcd33e7a6a1ffe217dbf0cd986912e47799d35&enc_url=68747470733a2f2f7261772e67697468756275736572636f6e74656e742e636f6d2f454e563835392f4172634749532d507974686f6e4150492f613366636433336537613661316666653231376462663063643938363931326534373739396433352f30322d4765742d43656e7375732d446174612e6970796e62&nwo=ENV859%2FArcGIS-PythonAPI&path=02-Get-Census-Data.ipynb&repository_id=155864359&repository_type=Repository#Step-5.-Explore-properties-of-the-FeatureLayer-object)  See Step 5...)"
   ]
  },
  {
   "cell_type": "code",
   "execution_count": null,
   "metadata": {},
   "outputs": [],
   "source": [
    "#Iterate through all fields and report each field's name\n"
   ]
  },
  {
   "cell_type": "markdown",
   "metadata": {},
   "source": [
    "### Task 4c. Query records\n",
    "We are going to query records matching a specific land use type. \n",
    "* To do this, it'd be a good idea to view the list of unique land use types contained in the feature class. We can use the `get_unique_values()` command to do this, applying it to the `LANDUSE_DESC` field."
   ]
  },
  {
   "cell_type": "code",
   "execution_count": null,
   "metadata": {},
   "outputs": [],
   "source": [
    "#List the unique values in the LANDUSE_DESC field\n"
   ]
  },
  {
   "cell_type": "markdown",
   "metadata": {},
   "source": [
    "In the above list we can infer all the vacant parcels have a LANDUSE_DESC that start with \"VAC/\", so we'll:\n",
    "* Query our feature layer using the query: `LANDUSE_DESC LIKE 'VAC/%'`"
   ]
  },
  {
   "cell_type": "code",
   "execution_count": null,
   "metadata": {},
   "outputs": [],
   "source": [
    "#Query the features into a new feature set object\n"
   ]
  },
  {
   "cell_type": "markdown",
   "metadata": {},
   "source": [
    "### Task 4d: Visualize our results\n",
    "* Create a map centered on \"Durham County, NC\" \n",
    "* Use the map widgets `draw()` command to draw our query results feature set.\n",
    "* Display the map (sometimes you need to run the code twice for the features to appear...)"
   ]
  },
  {
   "cell_type": "code",
   "execution_count": null,
   "metadata": {},
   "outputs": [],
   "source": [
    "#Map the vacant lots"
   ]
  },
  {
   "cell_type": "markdown",
   "metadata": {},
   "source": [
    "### Task 4e: Save the results\n",
    "* The FeatureSet has a function called `save()` which allows us to download our queried results. Save your results to `vacant_lots.shp` in the `data folder`."
   ]
  },
  {
   "cell_type": "code",
   "execution_count": null,
   "metadata": {},
   "outputs": [],
   "source": [
    "#Save the results to a shapefile"
   ]
  }
 ],
 "metadata": {
  "kernelspec": {
   "display_name": "Python 3",
   "language": "python",
   "name": "python3"
  },
  "language_info": {
   "codemirror_mode": {
    "name": "ipython",
    "version": 3
   },
   "file_extension": ".py",
   "mimetype": "text/x-python",
   "name": "python",
   "nbconvert_exporter": "python",
   "pygments_lexer": "ipython3",
   "version": "3.6.8"
  }
 },
 "nbformat": 4,
 "nbformat_minor": 2
}
